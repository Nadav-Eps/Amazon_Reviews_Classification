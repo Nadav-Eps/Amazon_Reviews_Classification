{
 "cells": [
  {
   "cell_type": "markdown",
   "id": "5e3c6d43",
   "metadata": {
    "_cell_guid": "bb8b4883-3c51-4b78-89a1-77fb460fb32e",
    "_uuid": "013cbf91-9dd0-46b4-8764-2a64dc2bba16",
    "papermill": {
     "duration": 0.028511,
     "end_time": "2022-01-02T17:49:14.980817",
     "exception": false,
     "start_time": "2022-01-02T17:49:14.952306",
     "status": "completed"
    },
    "tags": []
   },
   "source": [
    "# NLP project"
   ]
  },
  {
   "cell_type": "markdown",
   "id": "276a95d4",
   "metadata": {
    "_cell_guid": "0b2f829f-1422-4150-9749-8c86cf7f6ba0",
    "_uuid": "a131bf38-b70d-435b-b835-c14d585100b9",
    "papermill": {
     "duration": 0.027314,
     "end_time": "2022-01-02T17:49:15.036619",
     "exception": false,
     "start_time": "2022-01-02T17:49:15.009305",
     "status": "completed"
    },
    "tags": []
   },
   "source": [
    "ID's : 205918980, 206066326, 313612152"
   ]
  },
  {
   "cell_type": "markdown",
   "id": "4dc7bba4",
   "metadata": {
    "_cell_guid": "e8a50159-9e78-42c3-bc29-9fb1de9202eb",
    "_uuid": "196daeb7-3879-4d29-882e-6d2f81b51195",
    "papermill": {
     "duration": 0.027317,
     "end_time": "2022-01-02T17:49:15.092292",
     "exception": false,
     "start_time": "2022-01-02T17:49:15.064975",
     "status": "completed"
    },
    "tags": []
   },
   "source": [
    "## Import's"
   ]
  },
  {
   "cell_type": "code",
   "execution_count": 1,
   "id": "7502e1bc",
   "metadata": {
    "_cell_guid": "a18ae64a-2228-4997-b06b-8e6e77a3e113",
    "_uuid": "738cf36e-02f1-4721-88aa-043f6dc2a00d",
    "execution": {
     "iopub.execute_input": "2022-01-02T17:49:15.153369Z",
     "iopub.status.busy": "2022-01-02T17:49:15.151871Z",
     "iopub.status.idle": "2022-01-02T17:49:21.064042Z",
     "shell.execute_reply": "2022-01-02T17:49:21.064686Z",
     "shell.execute_reply.started": "2022-01-02T14:17:13.830274Z"
    },
    "jupyter": {
     "outputs_hidden": false
    },
    "papermill": {
     "duration": 5.944537,
     "end_time": "2022-01-02T17:49:21.065009",
     "exception": false,
     "start_time": "2022-01-02T17:49:15.120472",
     "status": "completed"
    },
    "tags": []
   },
   "outputs": [
    {
     "name": "stdout",
     "output_type": "stream",
     "text": [
      "[nltk_data] Downloading package punkt to /usr/share/nltk_data...\n",
      "[nltk_data]   Package punkt is already up-to-date!\n",
      "[nltk_data] Downloading package stopwords to /usr/share/nltk_data...\n",
      "[nltk_data]   Package stopwords is already up-to-date!\n"
     ]
    },
    {
     "data": {
      "text/plain": [
       "True"
      ]
     },
     "execution_count": 1,
     "metadata": {},
     "output_type": "execute_result"
    }
   ],
   "source": [
    "import numpy as np\n",
    "import pandas as pd \n",
    "import matplotlib.pyplot as plt\n",
    "import seaborn as sns\n",
    "\n",
    "# ignor wornings\n",
    "import os\n",
    "os.environ['TF_CPP_MIN_LOG_LEVEL'] = '2' \n",
    "import warnings\n",
    "warnings.filterwarnings(\"ignore\")   \n",
    "\n",
    "# tensorflow lib\n",
    "import tensorflow as tf\n",
    "from tensorflow.keras.preprocessing.text import Tokenizer\n",
    "from tensorflow.keras.preprocessing.sequence import pad_sequences\n",
    "from tensorflow.keras.layers import Embedding, GRU, Dense, Flatten, Bidirectional \n",
    "\n",
    "from sklearn.metrics import confusion_matrix\n",
    "from sklearn.model_selection import train_test_split\n",
    "from sklearn.metrics import f1_score\n",
    "\n",
    "# nlp tools\n",
    "import string\n",
    "import re\n",
    "import nltk \n",
    "\n",
    "from nltk.stem import PorterStemmer\n",
    "from nltk.tokenize import word_tokenize\n",
    "from nltk.corpus import stopwords\n",
    "\n",
    "nltk.download('punkt')\n",
    "nltk.download('stopwords')"
   ]
  },
  {
   "cell_type": "code",
   "execution_count": 2,
   "id": "ad6854db",
   "metadata": {
    "_cell_guid": "82903287-5ae7-4ea1-aef7-6b624c6b0dda",
    "_uuid": "921ff29b-4be1-49ed-bc0e-bfa177321a05",
    "execution": {
     "iopub.execute_input": "2022-01-02T17:49:21.125589Z",
     "iopub.status.busy": "2022-01-02T17:49:21.124943Z",
     "iopub.status.idle": "2022-01-02T17:49:21.127549Z",
     "shell.execute_reply": "2022-01-02T17:49:21.128076Z",
     "shell.execute_reply.started": "2022-01-02T14:17:20.259928Z"
    },
    "jupyter": {
     "outputs_hidden": false
    },
    "papermill": {
     "duration": 0.035263,
     "end_time": "2022-01-02T17:49:21.128202",
     "exception": false,
     "start_time": "2022-01-02T17:49:21.092939",
     "status": "completed"
    },
    "tags": []
   },
   "outputs": [
    {
     "data": {
      "text/plain": [
       "'2.6.2'"
      ]
     },
     "execution_count": 2,
     "metadata": {},
     "output_type": "execute_result"
    }
   ],
   "source": [
    "tf.__version__"
   ]
  },
  {
   "cell_type": "code",
   "execution_count": 3,
   "id": "0166cee7",
   "metadata": {
    "_cell_guid": "0be4627b-bf10-47cd-84c8-0b9946010b05",
    "_uuid": "1614ebfc-0a2f-4e06-86ef-67f3b4722ce8",
    "execution": {
     "iopub.execute_input": "2022-01-02T17:49:21.187553Z",
     "iopub.status.busy": "2022-01-02T17:49:21.187056Z",
     "iopub.status.idle": "2022-01-02T17:49:28.068439Z",
     "shell.execute_reply": "2022-01-02T17:49:28.068003Z",
     "shell.execute_reply.started": "2022-01-02T14:17:20.272410Z"
    },
    "jupyter": {
     "outputs_hidden": false
    },
    "papermill": {
     "duration": 6.912562,
     "end_time": "2022-01-02T17:49:28.068565",
     "exception": false,
     "start_time": "2022-01-02T17:49:21.156003",
     "status": "completed"
    },
    "tags": []
   },
   "outputs": [
    {
     "data": {
      "text/html": [
       "<div>\n",
       "<style scoped>\n",
       "    .dataframe tbody tr th:only-of-type {\n",
       "        vertical-align: middle;\n",
       "    }\n",
       "\n",
       "    .dataframe tbody tr th {\n",
       "        vertical-align: top;\n",
       "    }\n",
       "\n",
       "    .dataframe thead th {\n",
       "        text-align: right;\n",
       "    }\n",
       "</style>\n",
       "<table border=\"1\" class=\"dataframe\">\n",
       "  <thead>\n",
       "    <tr style=\"text-align: right;\">\n",
       "      <th></th>\n",
       "      <th>Id</th>\n",
       "      <th>ProductId</th>\n",
       "      <th>UserId</th>\n",
       "      <th>ProfileName</th>\n",
       "      <th>HelpfulnessNumerator</th>\n",
       "      <th>HelpfulnessDenominator</th>\n",
       "      <th>Score</th>\n",
       "      <th>Time</th>\n",
       "      <th>Summary</th>\n",
       "      <th>Text</th>\n",
       "    </tr>\n",
       "  </thead>\n",
       "  <tbody>\n",
       "    <tr>\n",
       "      <th>0</th>\n",
       "      <td>1</td>\n",
       "      <td>B001E4KFG0</td>\n",
       "      <td>A3SGXH7AUHU8GW</td>\n",
       "      <td>delmartian</td>\n",
       "      <td>1</td>\n",
       "      <td>1</td>\n",
       "      <td>5</td>\n",
       "      <td>1303862400</td>\n",
       "      <td>Good Quality Dog Food</td>\n",
       "      <td>I have bought several of the Vitality canned d...</td>\n",
       "    </tr>\n",
       "    <tr>\n",
       "      <th>1</th>\n",
       "      <td>2</td>\n",
       "      <td>B00813GRG4</td>\n",
       "      <td>A1D87F6ZCVE5NK</td>\n",
       "      <td>dll pa</td>\n",
       "      <td>0</td>\n",
       "      <td>0</td>\n",
       "      <td>1</td>\n",
       "      <td>1346976000</td>\n",
       "      <td>Not as Advertised</td>\n",
       "      <td>Product arrived labeled as Jumbo Salted Peanut...</td>\n",
       "    </tr>\n",
       "    <tr>\n",
       "      <th>2</th>\n",
       "      <td>3</td>\n",
       "      <td>B000LQOCH0</td>\n",
       "      <td>ABXLMWJIXXAIN</td>\n",
       "      <td>Natalia Corres \"Natalia Corres\"</td>\n",
       "      <td>1</td>\n",
       "      <td>1</td>\n",
       "      <td>4</td>\n",
       "      <td>1219017600</td>\n",
       "      <td>\"Delight\" says it all</td>\n",
       "      <td>This is a confection that has been around a fe...</td>\n",
       "    </tr>\n",
       "    <tr>\n",
       "      <th>3</th>\n",
       "      <td>4</td>\n",
       "      <td>B000UA0QIQ</td>\n",
       "      <td>A395BORC6FGVXV</td>\n",
       "      <td>Karl</td>\n",
       "      <td>3</td>\n",
       "      <td>3</td>\n",
       "      <td>2</td>\n",
       "      <td>1307923200</td>\n",
       "      <td>Cough Medicine</td>\n",
       "      <td>If you are looking for the secret ingredient i...</td>\n",
       "    </tr>\n",
       "    <tr>\n",
       "      <th>4</th>\n",
       "      <td>5</td>\n",
       "      <td>B006K2ZZ7K</td>\n",
       "      <td>A1UQRSCLF8GW1T</td>\n",
       "      <td>Michael D. Bigham \"M. Wassir\"</td>\n",
       "      <td>0</td>\n",
       "      <td>0</td>\n",
       "      <td>5</td>\n",
       "      <td>1350777600</td>\n",
       "      <td>Great taffy</td>\n",
       "      <td>Great taffy at a great price.  There was a wid...</td>\n",
       "    </tr>\n",
       "  </tbody>\n",
       "</table>\n",
       "</div>"
      ],
      "text/plain": [
       "   Id   ProductId          UserId                      ProfileName  \\\n",
       "0   1  B001E4KFG0  A3SGXH7AUHU8GW                       delmartian   \n",
       "1   2  B00813GRG4  A1D87F6ZCVE5NK                           dll pa   \n",
       "2   3  B000LQOCH0   ABXLMWJIXXAIN  Natalia Corres \"Natalia Corres\"   \n",
       "3   4  B000UA0QIQ  A395BORC6FGVXV                             Karl   \n",
       "4   5  B006K2ZZ7K  A1UQRSCLF8GW1T    Michael D. Bigham \"M. Wassir\"   \n",
       "\n",
       "   HelpfulnessNumerator  HelpfulnessDenominator  Score        Time  \\\n",
       "0                     1                       1      5  1303862400   \n",
       "1                     0                       0      1  1346976000   \n",
       "2                     1                       1      4  1219017600   \n",
       "3                     3                       3      2  1307923200   \n",
       "4                     0                       0      5  1350777600   \n",
       "\n",
       "                 Summary                                               Text  \n",
       "0  Good Quality Dog Food  I have bought several of the Vitality canned d...  \n",
       "1      Not as Advertised  Product arrived labeled as Jumbo Salted Peanut...  \n",
       "2  \"Delight\" says it all  This is a confection that has been around a fe...  \n",
       "3         Cough Medicine  If you are looking for the secret ingredient i...  \n",
       "4            Great taffy  Great taffy at a great price.  There was a wid...  "
      ]
     },
     "execution_count": 3,
     "metadata": {},
     "output_type": "execute_result"
    }
   ],
   "source": [
    "# import data\n",
    "df = pd.read_csv(\"../input/amazon-fine-food-reviews/Reviews.csv\")\n",
    "df.head()"
   ]
  },
  {
   "cell_type": "markdown",
   "id": "2ed00057",
   "metadata": {
    "_cell_guid": "37512e82-3049-4fb8-a1c0-56a28c728234",
    "_uuid": "072c137d-92b3-4bee-8778-bf8101103912",
    "papermill": {
     "duration": 0.030749,
     "end_time": "2022-01-02T17:49:28.130114",
     "exception": false,
     "start_time": "2022-01-02T17:49:28.099365",
     "status": "completed"
    },
    "tags": []
   },
   "source": [
    "### Spliting the scor to 1 and 0 (positive or negative review)."
   ]
  },
  {
   "cell_type": "code",
   "execution_count": 4,
   "id": "ac4826b6",
   "metadata": {
    "_cell_guid": "0d92245f-49a3-4c4b-aa24-2ec362785cc4",
    "_uuid": "33f73fa3-ca57-4b44-b733-497d7d508861",
    "execution": {
     "iopub.execute_input": "2022-01-02T17:49:28.200215Z",
     "iopub.status.busy": "2022-01-02T17:49:28.199354Z",
     "iopub.status.idle": "2022-01-02T17:49:28.213945Z",
     "shell.execute_reply": "2022-01-02T17:49:28.213456Z",
     "shell.execute_reply.started": "2022-01-02T14:17:26.990428Z"
    },
    "jupyter": {
     "outputs_hidden": false
    },
    "papermill": {
     "duration": 0.05369,
     "end_time": "2022-01-02T17:49:28.214110",
     "exception": false,
     "start_time": "2022-01-02T17:49:28.160420",
     "status": "completed"
    },
    "tags": []
   },
   "outputs": [],
   "source": [
    "df.loc[(df.Score <= 3)  , \"Score\"] = 0\n",
    "df.loc[(df.Score >= 4)  , \"Score\"] = 1"
   ]
  },
  {
   "cell_type": "code",
   "execution_count": 5,
   "id": "67fa9d6b",
   "metadata": {
    "_cell_guid": "6413575f-17c4-46c7-9792-e5757ef464f7",
    "_uuid": "bf218fd0-793c-4522-96a2-96f212bf9408",
    "execution": {
     "iopub.execute_input": "2022-01-02T17:49:28.288229Z",
     "iopub.status.busy": "2022-01-02T17:49:28.287089Z",
     "iopub.status.idle": "2022-01-02T17:49:28.498841Z",
     "shell.execute_reply": "2022-01-02T17:49:28.499247Z",
     "shell.execute_reply.started": "2022-01-02T14:17:27.009272Z"
    },
    "jupyter": {
     "outputs_hidden": false
    },
    "papermill": {
     "duration": 0.254018,
     "end_time": "2022-01-02T17:49:28.499502",
     "exception": false,
     "start_time": "2022-01-02T17:49:28.245484",
     "status": "completed"
    },
    "tags": []
   },
   "outputs": [
    {
     "name": "stdout",
     "output_type": "stream",
     "text": [
      "AxesSubplot(0.125,0.125;0.775x0.755)\n"
     ]
    },
    {
     "data": {
      "image/png": "[encoded data removed]",
      "text/plain": [
       "<Figure size 432x288 with 1 Axes>"
      ]
     },
     "metadata": {
      "needs_background": "light"
     },
     "output_type": "display_data"
    }
   ],
   "source": [
    "# prints wheter a review is positive (1) or negative (0)\n",
    "print(round(df.Score.value_counts()/df.Score.size,2).plot.bar())\n",
    "\n",
    "plt.show()"
   ]
  },
  {
   "cell_type": "code",
   "execution_count": 6,
   "id": "3f798383",
   "metadata": {
    "_cell_guid": "da2d9c8e-6280-44f7-a799-f43b98157785",
    "_uuid": "2200ff86-79f8-4275-a6fb-5d07d8de9204",
    "execution": {
     "iopub.execute_input": "2022-01-02T17:49:28.570943Z",
     "iopub.status.busy": "2022-01-02T17:49:28.570081Z",
     "iopub.status.idle": "2022-01-02T17:49:29.353612Z",
     "shell.execute_reply": "2022-01-02T17:49:29.352965Z",
     "shell.execute_reply.started": "2022-01-02T14:17:27.213838Z"
    },
    "jupyter": {
     "outputs_hidden": false
    },
    "papermill": {
     "duration": 0.819758,
     "end_time": "2022-01-02T17:49:29.353843",
     "exception": false,
     "start_time": "2022-01-02T17:49:28.534085",
     "status": "completed"
    },
    "tags": []
   },
   "outputs": [
    {
     "name": "stdout",
     "output_type": "stream",
     "text": [
      "Id                         0\n",
      "ProductId                  0\n",
      "UserId                     0\n",
      "ProfileName               16\n",
      "HelpfulnessNumerator       0\n",
      "HelpfulnessDenominator     0\n",
      "Score                      0\n",
      "Time                       0\n",
      "Summary                   27\n",
      "Text                       0\n",
      "dtype: int64\n"
     ]
    }
   ],
   "source": [
    "# Check if there are any null values and drop them\n",
    "print(df.isnull().sum())\n",
    "df = df.dropna().reset_index()"
   ]
  },
  {
   "cell_type": "code",
   "execution_count": 7,
   "id": "896d16f2",
   "metadata": {
    "_cell_guid": "dca3da1d-7dd0-47c3-a3af-c00704945d73",
    "_uuid": "adf6e3cd-3b9e-4e0d-9bbe-ee8d0474b248",
    "execution": {
     "iopub.execute_input": "2022-01-02T17:49:29.424486Z",
     "iopub.status.busy": "2022-01-02T17:49:29.423627Z",
     "iopub.status.idle": "2022-01-02T17:49:29.518624Z",
     "shell.execute_reply": "2022-01-02T17:49:29.518120Z",
     "shell.execute_reply.started": "2022-01-02T14:17:27.957875Z"
    },
    "jupyter": {
     "outputs_hidden": false
    },
    "papermill": {
     "duration": 0.131702,
     "end_time": "2022-01-02T17:49:29.518775",
     "exception": false,
     "start_time": "2022-01-02T17:49:29.387073",
     "status": "completed"
    },
    "tags": []
   },
   "outputs": [],
   "source": [
    "# balance the data!\n",
    "good = df[df['Score'] == 1]\n",
    "bad =  df[df['Score'] == 0]"
   ]
  },
  {
   "cell_type": "code",
   "execution_count": 8,
   "id": "d5f232b0",
   "metadata": {
    "_cell_guid": "0d1654ea-e95a-49c4-8061-e34be16a21d0",
    "_uuid": "80e64dab-fb7f-42a3-b6dd-0f7e28c56444",
    "execution": {
     "iopub.execute_input": "2022-01-02T17:49:29.583430Z",
     "iopub.status.busy": "2022-01-02T17:49:29.582360Z",
     "iopub.status.idle": "2022-01-02T17:49:29.849354Z",
     "shell.execute_reply": "2022-01-02T17:49:29.849792Z",
     "shell.execute_reply.started": "2022-01-02T14:17:28.059421Z"
    },
    "jupyter": {
     "outputs_hidden": false
    },
    "papermill": {
     "duration": 0.301388,
     "end_time": "2022-01-02T17:49:29.849952",
     "exception": false,
     "start_time": "2022-01-02T17:49:29.548564",
     "status": "completed"
    },
    "tags": []
   },
   "outputs": [
    {
     "data": {
      "text/html": [
       "<div>\n",
       "<style scoped>\n",
       "    .dataframe tbody tr th:only-of-type {\n",
       "        vertical-align: middle;\n",
       "    }\n",
       "\n",
       "    .dataframe tbody tr th {\n",
       "        vertical-align: top;\n",
       "    }\n",
       "\n",
       "    .dataframe thead th {\n",
       "        text-align: right;\n",
       "    }\n",
       "</style>\n",
       "<table border=\"1\" class=\"dataframe\">\n",
       "  <thead>\n",
       "    <tr style=\"text-align: right;\">\n",
       "      <th></th>\n",
       "      <th>index</th>\n",
       "      <th>Id</th>\n",
       "      <th>ProductId</th>\n",
       "      <th>UserId</th>\n",
       "      <th>ProfileName</th>\n",
       "      <th>HelpfulnessNumerator</th>\n",
       "      <th>HelpfulnessDenominator</th>\n",
       "      <th>Score</th>\n",
       "      <th>Time</th>\n",
       "      <th>Summary</th>\n",
       "      <th>Text</th>\n",
       "    </tr>\n",
       "  </thead>\n",
       "  <tbody>\n",
       "    <tr>\n",
       "      <th>0</th>\n",
       "      <td>12373</td>\n",
       "      <td>12374</td>\n",
       "      <td>B000F5429A</td>\n",
       "      <td>A13NW8G2B4MLKG</td>\n",
       "      <td>Janice K. Terrell</td>\n",
       "      <td>4</td>\n",
       "      <td>4</td>\n",
       "      <td>1</td>\n",
       "      <td>1297814400</td>\n",
       "      <td>LOVE those Sugar-free Werther's !!!</td>\n",
       "      <td>I am so excited to find that I can purchase Su...</td>\n",
       "    </tr>\n",
       "    <tr>\n",
       "      <th>1</th>\n",
       "      <td>115314</td>\n",
       "      <td>115315</td>\n",
       "      <td>B000F4F952</td>\n",
       "      <td>ARBS124NVEJUV</td>\n",
       "      <td>SuzyB</td>\n",
       "      <td>0</td>\n",
       "      <td>0</td>\n",
       "      <td>1</td>\n",
       "      <td>1348790400</td>\n",
       "      <td>Great tea</td>\n",
       "      <td>Love this tea...drink it every morning! I alte...</td>\n",
       "    </tr>\n",
       "    <tr>\n",
       "      <th>2</th>\n",
       "      <td>76715</td>\n",
       "      <td>76716</td>\n",
       "      <td>B0049ULB78</td>\n",
       "      <td>A1T4XNA6LM3EYS</td>\n",
       "      <td>Joe Smith</td>\n",
       "      <td>0</td>\n",
       "      <td>1</td>\n",
       "      <td>0</td>\n",
       "      <td>1338076800</td>\n",
       "      <td>Undrinkable</td>\n",
       "      <td>Wow, this stuff is nasty. I'm glad I only orde...</td>\n",
       "    </tr>\n",
       "    <tr>\n",
       "      <th>3</th>\n",
       "      <td>7879</td>\n",
       "      <td>7880</td>\n",
       "      <td>B004AMLWO2</td>\n",
       "      <td>A3HVBJ268BZIP2</td>\n",
       "      <td>Alex E. Acle</td>\n",
       "      <td>0</td>\n",
       "      <td>0</td>\n",
       "      <td>0</td>\n",
       "      <td>1324080000</td>\n",
       "      <td>Good for cooking</td>\n",
       "      <td>Purchased two liters... looking for an oil to ...</td>\n",
       "    </tr>\n",
       "    <tr>\n",
       "      <th>4</th>\n",
       "      <td>7382</td>\n",
       "      <td>7383</td>\n",
       "      <td>B001EPQQL2</td>\n",
       "      <td>A14ZROR1NHBYTO</td>\n",
       "      <td>DonF \"DonF\"</td>\n",
       "      <td>0</td>\n",
       "      <td>0</td>\n",
       "      <td>1</td>\n",
       "      <td>1337299200</td>\n",
       "      <td>best brown sugar replacement</td>\n",
       "      <td>This taste just like brown sugar with less sug...</td>\n",
       "    </tr>\n",
       "    <tr>\n",
       "      <th>...</th>\n",
       "      <td>...</td>\n",
       "      <td>...</td>\n",
       "      <td>...</td>\n",
       "      <td>...</td>\n",
       "      <td>...</td>\n",
       "      <td>...</td>\n",
       "      <td>...</td>\n",
       "      <td>...</td>\n",
       "      <td>...</td>\n",
       "      <td>...</td>\n",
       "      <td>...</td>\n",
       "    </tr>\n",
       "    <tr>\n",
       "      <th>199995</th>\n",
       "      <td>94969</td>\n",
       "      <td>94970</td>\n",
       "      <td>B0070CGXN4</td>\n",
       "      <td>A35V32HZEGZH04</td>\n",
       "      <td>W. Easley \"Opa\"</td>\n",
       "      <td>1</td>\n",
       "      <td>1</td>\n",
       "      <td>1</td>\n",
       "      <td>1336003200</td>\n",
       "      <td>Soft as a Spring Day</td>\n",
       "      <td>.&lt;br /&gt;&lt;br /&gt;Recently on a relaxing vacation, ...</td>\n",
       "    </tr>\n",
       "    <tr>\n",
       "      <th>199996</th>\n",
       "      <td>97799</td>\n",
       "      <td>97800</td>\n",
       "      <td>B004PXEZ9K</td>\n",
       "      <td>A371Z04GWURCYC</td>\n",
       "      <td>Rich Dolata Jr.</td>\n",
       "      <td>1</td>\n",
       "      <td>1</td>\n",
       "      <td>1</td>\n",
       "      <td>1329696000</td>\n",
       "      <td>If I ate more than 3/day my stomach was all me...</td>\n",
       "      <td>Was hotter than i thought. Was very good but t...</td>\n",
       "    </tr>\n",
       "    <tr>\n",
       "      <th>199997</th>\n",
       "      <td>271344</td>\n",
       "      <td>271345</td>\n",
       "      <td>B00250UD1Y</td>\n",
       "      <td>AKACGHPVILE9R</td>\n",
       "      <td>Sophronia \"Euphemia\"</td>\n",
       "      <td>5</td>\n",
       "      <td>8</td>\n",
       "      <td>0</td>\n",
       "      <td>1314144000</td>\n",
       "      <td>Doesnt Dissolve Well - Evaporated Milk Taste</td>\n",
       "      <td>Purchased this as a good way to serve cream fo...</td>\n",
       "    </tr>\n",
       "    <tr>\n",
       "      <th>199998</th>\n",
       "      <td>332491</td>\n",
       "      <td>332492</td>\n",
       "      <td>B001652JCU</td>\n",
       "      <td>A31C61TMDHFJKJ</td>\n",
       "      <td>K. Palmer \"ernie\"</td>\n",
       "      <td>0</td>\n",
       "      <td>0</td>\n",
       "      <td>0</td>\n",
       "      <td>1308873600</td>\n",
       "      <td>Sugar free?</td>\n",
       "      <td>Don't expect this to taste the same as what co...</td>\n",
       "    </tr>\n",
       "    <tr>\n",
       "      <th>199999</th>\n",
       "      <td>55962</td>\n",
       "      <td>55963</td>\n",
       "      <td>B000V7MCBC</td>\n",
       "      <td>A1UVKA2ZQD2C8Z</td>\n",
       "      <td>Anon-e-mouse</td>\n",
       "      <td>0</td>\n",
       "      <td>0</td>\n",
       "      <td>1</td>\n",
       "      <td>1343520000</td>\n",
       "      <td>Oh My Goodness!</td>\n",
       "      <td>This tea is great!  I had no idea white tea wo...</td>\n",
       "    </tr>\n",
       "  </tbody>\n",
       "</table>\n",
       "<p>200000 rows × 11 columns</p>\n",
       "</div>"
      ],
      "text/plain": [
       "         index      Id   ProductId          UserId           ProfileName  \\\n",
       "0        12373   12374  B000F5429A  A13NW8G2B4MLKG     Janice K. Terrell   \n",
       "1       115314  115315  B000F4F952   ARBS124NVEJUV                 SuzyB   \n",
       "2        76715   76716  B0049ULB78  A1T4XNA6LM3EYS             Joe Smith   \n",
       "3         7879    7880  B004AMLWO2  A3HVBJ268BZIP2          Alex E. Acle   \n",
       "4         7382    7383  B001EPQQL2  A14ZROR1NHBYTO           DonF \"DonF\"   \n",
       "...        ...     ...         ...             ...                   ...   \n",
       "199995   94969   94970  B0070CGXN4  A35V32HZEGZH04       W. Easley \"Opa\"   \n",
       "199996   97799   97800  B004PXEZ9K  A371Z04GWURCYC       Rich Dolata Jr.   \n",
       "199997  271344  271345  B00250UD1Y   AKACGHPVILE9R  Sophronia \"Euphemia\"   \n",
       "199998  332491  332492  B001652JCU  A31C61TMDHFJKJ     K. Palmer \"ernie\"   \n",
       "199999   55962   55963  B000V7MCBC  A1UVKA2ZQD2C8Z          Anon-e-mouse   \n",
       "\n",
       "        HelpfulnessNumerator  HelpfulnessDenominator  Score        Time  \\\n",
       "0                          4                       4      1  1297814400   \n",
       "1                          0                       0      1  1348790400   \n",
       "2                          0                       1      0  1338076800   \n",
       "3                          0                       0      0  1324080000   \n",
       "4                          0                       0      1  1337299200   \n",
       "...                      ...                     ...    ...         ...   \n",
       "199995                     1                       1      1  1336003200   \n",
       "199996                     1                       1      1  1329696000   \n",
       "199997                     5                       8      0  1314144000   \n",
       "199998                     0                       0      0  1308873600   \n",
       "199999                     0                       0      1  1343520000   \n",
       "\n",
       "                                                  Summary  \\\n",
       "0                     LOVE those Sugar-free Werther's !!!   \n",
       "1                                               Great tea   \n",
       "2                                             Undrinkable   \n",
       "3                                        Good for cooking   \n",
       "4                            best brown sugar replacement   \n",
       "...                                                   ...   \n",
       "199995                               Soft as a Spring Day   \n",
       "199996  If I ate more than 3/day my stomach was all me...   \n",
       "199997       Doesnt Dissolve Well - Evaporated Milk Taste   \n",
       "199998                                        Sugar free?   \n",
       "199999                                    Oh My Goodness!   \n",
       "\n",
       "                                                     Text  \n",
       "0       I am so excited to find that I can purchase Su...  \n",
       "1       Love this tea...drink it every morning! I alte...  \n",
       "2       Wow, this stuff is nasty. I'm glad I only orde...  \n",
       "3       Purchased two liters... looking for an oil to ...  \n",
       "4       This taste just like brown sugar with less sug...  \n",
       "...                                                   ...  \n",
       "199995  .<br /><br />Recently on a relaxing vacation, ...  \n",
       "199996  Was hotter than i thought. Was very good but t...  \n",
       "199997  Purchased this as a good way to serve cream fo...  \n",
       "199998  Don't expect this to taste the same as what co...  \n",
       "199999  This tea is great!  I had no idea white tea wo...  \n",
       "\n",
       "[200000 rows x 11 columns]"
      ]
     },
     "execution_count": 8,
     "metadata": {},
     "output_type": "execute_result"
    }
   ],
   "source": [
    "#Set data size ans suffel \n",
    "datasize = 200000\n",
    "result = pd.concat([bad[:int(datasize/2)],good[:int(datasize/2)]])\n",
    "data = result.sample(frac=1).reset_index(drop=True)\n",
    "data"
   ]
  },
  {
   "cell_type": "code",
   "execution_count": 9,
   "id": "3dfcbdb4",
   "metadata": {
    "_cell_guid": "a5d042d7-7832-486e-85f3-677e9434cd12",
    "_uuid": "2b993780-cc7c-4ad2-a63d-8e51497c2a9b",
    "execution": {
     "iopub.execute_input": "2022-01-02T17:49:29.916916Z",
     "iopub.status.busy": "2022-01-02T17:49:29.916223Z",
     "iopub.status.idle": "2022-01-02T17:49:29.918755Z",
     "shell.execute_reply": "2022-01-02T17:49:29.919150Z",
     "shell.execute_reply.started": "2022-01-02T14:17:28.336869Z"
    },
    "jupyter": {
     "outputs_hidden": false
    },
    "papermill": {
     "duration": 0.038443,
     "end_time": "2022-01-02T17:49:29.919271",
     "exception": false,
     "start_time": "2022-01-02T17:49:29.880828",
     "status": "completed"
    },
    "tags": []
   },
   "outputs": [
    {
     "data": {
      "text/plain": [
       "(200000, 11)"
      ]
     },
     "execution_count": 9,
     "metadata": {},
     "output_type": "execute_result"
    }
   ],
   "source": [
    "data.shape"
   ]
  },
  {
   "cell_type": "code",
   "execution_count": 10,
   "id": "f5ef6f2e",
   "metadata": {
    "_cell_guid": "b52305d3-8b8c-426e-9b9a-1f2c8ebea084",
    "_uuid": "f806d40d-7fb0-4700-a20f-c35e44bede54",
    "execution": {
     "iopub.execute_input": "2022-01-02T17:49:30.112251Z",
     "iopub.status.busy": "2022-01-02T17:49:30.111332Z",
     "iopub.status.idle": "2022-01-02T17:49:30.125883Z",
     "shell.execute_reply": "2022-01-02T17:49:30.125373Z",
     "shell.execute_reply.started": "2022-01-02T14:17:28.345999Z"
    },
    "jupyter": {
     "outputs_hidden": false
    },
    "papermill": {
     "duration": 0.177019,
     "end_time": "2022-01-02T17:49:30.126041",
     "exception": false,
     "start_time": "2022-01-02T17:49:29.949022",
     "status": "completed"
    },
    "tags": []
   },
   "outputs": [
    {
     "name": "stdout",
     "output_type": "stream",
     "text": [
      "<class 'pandas.core.frame.DataFrame'>\n",
      "RangeIndex: 200000 entries, 0 to 199999\n",
      "Data columns (total 11 columns):\n",
      " #   Column                  Non-Null Count   Dtype \n",
      "---  ------                  --------------   ----- \n",
      " 0   index                   200000 non-null  int64 \n",
      " 1   Id                      200000 non-null  int64 \n",
      " 2   ProductId               200000 non-null  object\n",
      " 3   UserId                  200000 non-null  object\n",
      " 4   ProfileName             200000 non-null  object\n",
      " 5   HelpfulnessNumerator    200000 non-null  int64 \n",
      " 6   HelpfulnessDenominator  200000 non-null  int64 \n",
      " 7   Score                   200000 non-null  int64 \n",
      " 8   Time                    200000 non-null  int64 \n",
      " 9   Summary                 200000 non-null  object\n",
      " 10  Text                    200000 non-null  object\n",
      "dtypes: int64(6), object(5)\n",
      "memory usage: 16.8+ MB\n"
     ]
    }
   ],
   "source": [
    "data.info()"
   ]
  },
  {
   "cell_type": "markdown",
   "id": "bc1a04cb",
   "metadata": {
    "_cell_guid": "5cd28681-aad2-4dd9-b301-8997f12ae8ae",
    "_uuid": "ac476575-7410-4821-9d10-e8a193786b69",
    "papermill": {
     "duration": 0.030401,
     "end_time": "2022-01-02T17:49:30.188392",
     "exception": false,
     "start_time": "2022-01-02T17:49:30.157991",
     "status": "completed"
    },
    "tags": []
   },
   "source": [
    "# NLP"
   ]
  },
  {
   "cell_type": "code",
   "execution_count": 11,
   "id": "4297986c",
   "metadata": {
    "_cell_guid": "ea6459a8-827a-4215-880b-c2eb4ccbdef1",
    "_uuid": "ab1d0073-f4ad-444a-990c-f8ce0687ae2d",
    "execution": {
     "iopub.execute_input": "2022-01-02T17:49:30.254463Z",
     "iopub.status.busy": "2022-01-02T17:49:30.253757Z",
     "iopub.status.idle": "2022-01-02T17:49:30.257893Z",
     "shell.execute_reply": "2022-01-02T17:49:30.257460Z",
     "shell.execute_reply.started": "2022-01-02T14:17:28.491355Z"
    },
    "jupyter": {
     "outputs_hidden": false
    },
    "papermill": {
     "duration": 0.038413,
     "end_time": "2022-01-02T17:49:30.258004",
     "exception": false,
     "start_time": "2022-01-02T17:49:30.219591",
     "status": "completed"
    },
    "tags": []
   },
   "outputs": [],
   "source": [
    "stop_words = stopwords.words('english')\n",
    "stop_words = stop_words[:100]"
   ]
  },
  {
   "cell_type": "code",
   "execution_count": 12,
   "id": "59794fb4",
   "metadata": {
    "_cell_guid": "27ff1f98-93f7-49e3-a7e6-e9cad13da9c6",
    "_uuid": "17cea983-a836-42f4-8372-15f38639b3a9",
    "execution": {
     "iopub.execute_input": "2022-01-02T17:49:30.324143Z",
     "iopub.status.busy": "2022-01-02T17:49:30.323585Z",
     "iopub.status.idle": "2022-01-02T17:49:30.327188Z",
     "shell.execute_reply": "2022-01-02T17:49:30.326767Z",
     "shell.execute_reply.started": "2022-01-02T14:17:28.501939Z"
    },
    "jupyter": {
     "outputs_hidden": false
    },
    "papermill": {
     "duration": 0.03932,
     "end_time": "2022-01-02T17:49:30.327287",
     "exception": false,
     "start_time": "2022-01-02T17:49:30.287967",
     "status": "completed"
    },
    "tags": []
   },
   "outputs": [],
   "source": [
    "ps = PorterStemmer()\n",
    "count = 0\n",
    "def Deal_with_sentence(x):\n",
    "    global count \n",
    "    x = re.sub('\\d', ' ', x) #Removes Digits\n",
    "    x = re.sub('<.*?>', ' ', x) #Removes Html tags\n",
    "    x = x.translate(str.maketrans('', '', string.punctuation)) #Removes Punctuations\n",
    "    token_sen = word_tokenize(x)\n",
    "    x = \" \".join([ps.stem(word) for word in token_sen if word.lower() not in stop_words])\n",
    "    count += 1\n",
    "    if count % 5000 == 0:\n",
    "        print(count)\n",
    "    return x"
   ]
  },
  {
   "cell_type": "markdown",
   "id": "f36d7b8b",
   "metadata": {
    "_cell_guid": "00be782c-8398-4410-a519-8f166edeb9d3",
    "_uuid": "a15dafae-800d-4b53-8109-5381809df586",
    "papermill": {
     "duration": 0.029892,
     "end_time": "2022-01-02T17:49:30.387484",
     "exception": false,
     "start_time": "2022-01-02T17:49:30.357592",
     "status": "completed"
    },
    "tags": []
   },
   "source": [
    "# Process Data"
   ]
  },
  {
   "cell_type": "code",
   "execution_count": 13,
   "id": "2f2b3fe0",
   "metadata": {
    "_cell_guid": "97d5cc1f-34bf-443f-a5bf-28a981a7f8a3",
    "_uuid": "306cc33d-72b4-470a-afe2-7289d2a511f4",
    "execution": {
     "iopub.execute_input": "2022-01-02T17:49:30.452945Z",
     "iopub.status.busy": "2022-01-02T17:49:30.452212Z",
     "iopub.status.idle": "2022-01-02T17:56:17.581772Z",
     "shell.execute_reply": "2022-01-02T17:56:17.582383Z",
     "shell.execute_reply.started": "2022-01-02T14:17:28.511998Z"
    },
    "jupyter": {
     "outputs_hidden": false
    },
    "papermill": {
     "duration": 407.165001,
     "end_time": "2022-01-02T17:56:17.582591",
     "exception": false,
     "start_time": "2022-01-02T17:49:30.417590",
     "status": "completed"
    },
    "tags": []
   },
   "outputs": [
    {
     "name": "stdout",
     "output_type": "stream",
     "text": [
      "5000\n",
      "10000\n",
      "15000\n",
      "20000\n",
      "25000\n",
      "30000\n",
      "35000\n",
      "40000\n",
      "45000\n",
      "50000\n",
      "55000\n",
      "60000\n",
      "65000\n",
      "70000\n",
      "75000\n",
      "80000\n",
      "85000\n",
      "90000\n",
      "95000\n",
      "100000\n",
      "105000\n",
      "110000\n",
      "115000\n",
      "120000\n",
      "125000\n",
      "130000\n",
      "135000\n",
      "140000\n",
      "145000\n",
      "150000\n",
      "155000\n",
      "160000\n",
      "165000\n",
      "170000\n",
      "175000\n",
      "180000\n",
      "185000\n",
      "190000\n",
      "195000\n",
      "200000\n"
     ]
    }
   ],
   "source": [
    "score = data['Score'].copy()\n",
    "Reviews = data[['Text']].copy()['Text']\n",
    "Reviews = Reviews.apply(Deal_with_sentence)"
   ]
  },
  {
   "cell_type": "code",
   "execution_count": 14,
   "id": "12abdc72",
   "metadata": {
    "_cell_guid": "b60c732b-cdc7-45f1-a55d-62976742b878",
    "_uuid": "ecb48051-0723-42dc-a551-4b6b85ac7e58",
    "execution": {
     "iopub.execute_input": "2022-01-02T17:56:17.671081Z",
     "iopub.status.busy": "2022-01-02T17:56:17.670383Z",
     "iopub.status.idle": "2022-01-02T17:56:17.673095Z",
     "shell.execute_reply": "2022-01-02T17:56:17.673485Z",
     "shell.execute_reply.started": "2022-01-02T14:24:11.559400Z"
    },
    "jupyter": {
     "outputs_hidden": false
    },
    "papermill": {
     "duration": 0.04959,
     "end_time": "2022-01-02T17:56:17.673611",
     "exception": false,
     "start_time": "2022-01-02T17:56:17.624021",
     "status": "completed"
    },
    "tags": []
   },
   "outputs": [
    {
     "data": {
      "text/plain": [
       "0         so excit find can purchas sugarfre werther ama...\n",
       "1         love teadrink everi morn altern throughout day...\n",
       "2         wow stuff nasti Im glad onli order one box cof...\n",
       "3         purchas two liter look oil put salad bread etc...\n",
       "4         tast just like brown sugar less sugar use ever...\n",
       "                                ...                        \n",
       "199995    recent relax vacat discov neglect bring favori...\n",
       "199996    hotter than thought veri good too much jerki a...\n",
       "199997    purchas good way serv cream coffe tea without ...\n",
       "199998    dont expect tast same come small oz tin buy lo...\n",
       "199999    tea great no idea white tea would good will ne...\n",
       "Name: Text, Length: 200000, dtype: object"
      ]
     },
     "execution_count": 14,
     "metadata": {},
     "output_type": "execute_result"
    }
   ],
   "source": [
    "Reviews"
   ]
  },
  {
   "cell_type": "markdown",
   "id": "c9760830",
   "metadata": {
    "_cell_guid": "4c773c3b-fcf4-415a-b6fd-2eb8d1fe1dd2",
    "_uuid": "f8ed04b3-f979-458a-879a-eeb215f16d98",
    "papermill": {
     "duration": 0.040597,
     "end_time": "2022-01-02T17:56:17.755122",
     "exception": false,
     "start_time": "2022-01-02T17:56:17.714525",
     "status": "completed"
    },
    "tags": []
   },
   "source": [
    "# Make vectors"
   ]
  },
  {
   "cell_type": "code",
   "execution_count": 15,
   "id": "70fbb3e6",
   "metadata": {
    "_cell_guid": "6bce4cbc-6afb-47e2-a987-4988798cc573",
    "_uuid": "65026357-3497-4264-bbbe-c20b4bbf0dcf",
    "execution": {
     "iopub.execute_input": "2022-01-02T17:56:17.853536Z",
     "iopub.status.busy": "2022-01-02T17:56:17.848406Z",
     "iopub.status.idle": "2022-01-02T17:56:32.089168Z",
     "shell.execute_reply": "2022-01-02T17:56:32.088624Z",
     "shell.execute_reply.started": "2022-01-02T14:24:11.568673Z"
    },
    "jupyter": {
     "outputs_hidden": false
    },
    "papermill": {
     "duration": 14.293685,
     "end_time": "2022-01-02T17:56:32.089309",
     "exception": false,
     "start_time": "2022-01-02T17:56:17.795624",
     "status": "completed"
    },
    "tags": []
   },
   "outputs": [],
   "source": [
    "# Make vectors from the reviews and pad with 0's\n",
    "T = Tokenizer()\n",
    "T.fit_on_texts(Reviews)\n",
    "vectors = T.texts_to_sequences(Reviews)"
   ]
  },
  {
   "cell_type": "code",
   "execution_count": 16,
   "id": "62f56272",
   "metadata": {
    "_cell_guid": "9010b1e7-fa07-4e1f-a290-a0334890b4e1",
    "_uuid": "cafd2805-b5ba-481f-b529-4c709e54dac3",
    "execution": {
     "iopub.execute_input": "2022-01-02T17:56:32.219064Z",
     "iopub.status.busy": "2022-01-02T17:56:32.183301Z",
     "iopub.status.idle": "2022-01-02T17:56:35.321128Z",
     "shell.execute_reply": "2022-01-02T17:56:35.320209Z",
     "shell.execute_reply.started": "2022-01-02T14:24:25.968250Z"
    },
    "jupyter": {
     "outputs_hidden": false
    },
    "papermill": {
     "duration": 3.190733,
     "end_time": "2022-01-02T17:56:35.321273",
     "exception": false,
     "start_time": "2022-01-02T17:56:32.130540",
     "status": "completed"
    },
    "tags": []
   },
   "outputs": [],
   "source": [
    "longest_r= 0\n",
    "for x in vectors:\n",
    "    longest_r = max(len(x),longest_r)\n",
    "# padding with 0 \n",
    "vectors = pad_sequences(vectors, maxlen=longest_r, padding='post')"
   ]
  },
  {
   "cell_type": "code",
   "execution_count": 17,
   "id": "98596434",
   "metadata": {
    "_cell_guid": "3de0c150-5eff-4222-a458-061743cae855",
    "_uuid": "2c7ed32c-8505-435d-80fa-d13a8610e436",
    "execution": {
     "iopub.execute_input": "2022-01-02T17:56:35.412250Z",
     "iopub.status.busy": "2022-01-02T17:56:35.411504Z",
     "iopub.status.idle": "2022-01-02T17:56:35.414050Z",
     "shell.execute_reply": "2022-01-02T17:56:35.414447Z",
     "shell.execute_reply.started": "2022-01-02T14:24:29.280951Z"
    },
    "jupyter": {
     "outputs_hidden": false
    },
    "papermill": {
     "duration": 0.049762,
     "end_time": "2022-01-02T17:56:35.414568",
     "exception": false,
     "start_time": "2022-01-02T17:56:35.364806",
     "status": "completed"
    },
    "tags": []
   },
   "outputs": [
    {
     "data": {
      "text/plain": [
       "array([[    4,   475,    53, ...,     0,     0,     0],\n",
       "       [   17, 11628,   141, ...,     0,     0,     0],\n",
       "       [  900,   125,   812, ...,     0,     0,     0],\n",
       "       ...,\n",
       "       [   70,     8,    80, ...,     0,     0,     0],\n",
       "       [   32,   171,     3, ...,     0,     0,     0],\n",
       "       [   20,    24,    28, ...,     0,     0,     0]], dtype=int32)"
      ]
     },
     "execution_count": 17,
     "metadata": {},
     "output_type": "execute_result"
    }
   ],
   "source": [
    "vectors"
   ]
  },
  {
   "cell_type": "markdown",
   "id": "00693b0a",
   "metadata": {
    "_cell_guid": "36acf13f-1a12-445d-a41d-af064467017a",
    "_uuid": "79467b22-dc40-482d-bc77-3b3336c11f23",
    "papermill": {
     "duration": 0.040552,
     "end_time": "2022-01-02T17:56:35.495983",
     "exception": false,
     "start_time": "2022-01-02T17:56:35.455431",
     "status": "completed"
    },
    "tags": []
   },
   "source": [
    "# spliting data"
   ]
  },
  {
   "cell_type": "code",
   "execution_count": 18,
   "id": "da1a2474",
   "metadata": {
    "_cell_guid": "2d526db7-8b9a-401e-ba51-28ad7b4d594c",
    "_uuid": "d91c4cfd-92e5-4072-a61e-03f1a7ddfeb5",
    "execution": {
     "iopub.execute_input": "2022-01-02T17:56:35.586376Z",
     "iopub.status.busy": "2022-01-02T17:56:35.585721Z",
     "iopub.status.idle": "2022-01-02T17:56:36.105203Z",
     "shell.execute_reply": "2022-01-02T17:56:36.104715Z",
     "shell.execute_reply.started": "2022-01-02T14:24:29.292230Z"
    },
    "jupyter": {
     "outputs_hidden": false
    },
    "papermill": {
     "duration": 0.565558,
     "end_time": "2022-01-02T17:56:36.105346",
     "exception": false,
     "start_time": "2022-01-02T17:56:35.539788",
     "status": "completed"
    },
    "tags": []
   },
   "outputs": [],
   "source": [
    "x_train, x_test, y_train, y_test = train_test_split(vectors, score, train_size=0.8, random_state=1)"
   ]
  },
  {
   "cell_type": "code",
   "execution_count": 19,
   "id": "f629ceca",
   "metadata": {
    "_cell_guid": "50db2214-e4e9-410b-9fbd-572878f70018",
    "_uuid": "30a69101-af54-4c2e-bcd4-19b2554369df",
    "execution": {
     "iopub.execute_input": "2022-01-02T17:56:36.191941Z",
     "iopub.status.busy": "2022-01-02T17:56:36.191178Z",
     "iopub.status.idle": "2022-01-02T17:56:36.193898Z",
     "shell.execute_reply": "2022-01-02T17:56:36.194295Z",
     "shell.execute_reply.started": "2022-01-02T14:24:29.804736Z"
    },
    "jupyter": {
     "outputs_hidden": false
    },
    "papermill": {
     "duration": 0.047704,
     "end_time": "2022-01-02T17:56:36.194451",
     "exception": false,
     "start_time": "2022-01-02T17:56:36.146747",
     "status": "completed"
    },
    "tags": []
   },
   "outputs": [
    {
     "data": {
      "text/plain": [
       "(160000, 2119)"
      ]
     },
     "execution_count": 19,
     "metadata": {},
     "output_type": "execute_result"
    }
   ],
   "source": [
    "x_train.shape"
   ]
  },
  {
   "cell_type": "markdown",
   "id": "8ec26838",
   "metadata": {
    "_cell_guid": "6854d342-44c2-4eff-a122-229e2d17b8c9",
    "_uuid": "bfcb6dcb-c060-4c32-8a0a-38dd3796ea67",
    "papermill": {
     "duration": 0.041463,
     "end_time": "2022-01-02T17:56:36.277043",
     "exception": false,
     "start_time": "2022-01-02T17:56:36.235580",
     "status": "completed"
    },
    "tags": []
   },
   "source": [
    "# Modeling"
   ]
  },
  {
   "cell_type": "markdown",
   "id": "26e96808",
   "metadata": {
    "_cell_guid": "1d274ce3-e14e-4e92-aad3-6f943c0950fe",
    "_uuid": "a03480a0-8b24-4cf5-8c21-a70f27f6fb19",
    "papermill": {
     "duration": 0.047293,
     "end_time": "2022-01-02T17:56:36.365725",
     "exception": false,
     "start_time": "2022-01-02T17:56:36.318432",
     "status": "completed"
    },
    "tags": []
   },
   "source": [
    "## RNN with word embading"
   ]
  },
  {
   "cell_type": "code",
   "execution_count": 20,
   "id": "77a28095",
   "metadata": {
    "_cell_guid": "901d2e28-af4e-4008-85d1-71ad591b5562",
    "_uuid": "4ebcbe26-03f6-4939-a550-952efb32c416",
    "execution": {
     "iopub.execute_input": "2022-01-02T17:56:36.520003Z",
     "iopub.status.busy": "2022-01-02T17:56:36.519067Z",
     "iopub.status.idle": "2022-01-02T17:56:39.991029Z",
     "shell.execute_reply": "2022-01-02T17:56:39.990530Z",
     "shell.execute_reply.started": "2022-01-02T14:24:29.811221Z"
    },
    "jupyter": {
     "outputs_hidden": false
    },
    "papermill": {
     "duration": 3.549306,
     "end_time": "2022-01-02T17:56:39.991168",
     "exception": false,
     "start_time": "2022-01-02T17:56:36.441862",
     "status": "completed"
    },
    "tags": []
   },
   "outputs": [
    {
     "name": "stdout",
     "output_type": "stream",
     "text": [
      "Model: \"model\"\n",
      "_________________________________________________________________\n",
      "Layer (type)                 Output Shape              Param #   \n",
      "=================================================================\n",
      "input_1 (InputLayer)         [(None, 2119)]            0         \n",
      "_________________________________________________________________\n",
      "embedding (Embedding)        (None, 2119, 60)          5428080   \n",
      "_________________________________________________________________\n",
      "bidirectional (Bidirectional (None, 2119, 480)         434880    \n",
      "_________________________________________________________________\n",
      "flatten (Flatten)            (None, 1017120)           0         \n",
      "_________________________________________________________________\n",
      "dense (Dense)                (None, 1)                 1017121   \n",
      "=================================================================\n",
      "Total params: 6,880,081\n",
      "Trainable params: 6,880,081\n",
      "Non-trainable params: 0\n",
      "_________________________________________________________________\n",
      "None\n"
     ]
    },
    {
     "data": {
      "image/png": "[encoded data removed]",
      "text/plain": [
       "<IPython.core.display.Image object>"
      ]
     },
     "execution_count": 20,
     "metadata": {},
     "output_type": "execute_result"
    }
   ],
   "source": [
    "inputs = tf.keras.Input(shape=(longest_r,))\n",
    "\n",
    "embedding = Embedding(\n",
    "    input_dim=len(T.word_index) + 1,     #  Integer. Size of the vocabulary, i.e. maximum integer index + 1.\n",
    "    input_length=longest_r, #Length of input sequences, when it is constant. This argument is required if you are going to connect Flatten\n",
    "    output_dim=60                        # Integer. Dimension of the dense embedding.\n",
    ")(inputs)\n",
    "\n",
    "Bgru = Bidirectional(\n",
    "    GRU(240, return_sequences=True) # return to output each word that go to the GRU\n",
    ")(embedding)\n",
    "\n",
    "flat = Flatten()(Bgru) # flat the matrix (3D to 2D)\n",
    "\n",
    "outputs = Dense(1, activation='sigmoid')(flat) # Dense with sigmoid to 1 output\n",
    "\n",
    "\n",
    "model = tf.keras.Model(inputs, outputs) # init the model\n",
    "\n",
    "\n",
    "print(model.summary())\n",
    "tf.keras.utils.plot_model(model)"
   ]
  },
  {
   "cell_type": "code",
   "execution_count": 21,
   "id": "c49a05e0",
   "metadata": {
    "_cell_guid": "793bc883-c37e-47ce-b7b3-816fa5c2bbfb",
    "_uuid": "3a5795bb-af12-4625-97f8-1304069e6ec4",
    "execution": {
     "iopub.execute_input": "2022-01-02T17:56:40.087948Z",
     "iopub.status.busy": "2022-01-02T17:56:40.083413Z",
     "iopub.status.idle": "2022-01-02T18:40:11.050880Z",
     "shell.execute_reply": "2022-01-02T18:40:11.051673Z",
     "shell.execute_reply.started": "2022-01-02T14:24:33.279495Z"
    },
    "jupyter": {
     "outputs_hidden": false
    },
    "papermill": {
     "duration": 2611.0186,
     "end_time": "2022-01-02T18:40:11.051896",
     "exception": false,
     "start_time": "2022-01-02T17:56:40.033296",
     "status": "completed"
    },
    "tags": []
   },
   "outputs": [
    {
     "name": "stdout",
     "output_type": "stream",
     "text": [
      "Epoch 1/10\n",
      "2000/2000 [==============================] - 661s 329ms/step - loss: 0.3743 - accuracy: 0.8411 - val_loss: 0.3033 - val_accuracy: 0.8794\n",
      "Epoch 2/10\n",
      "2000/2000 [==============================] - 658s 329ms/step - loss: 0.2245 - accuracy: 0.9142 - val_loss: 0.2811 - val_accuracy: 0.8932\n",
      "Epoch 3/10\n",
      "2000/2000 [==============================] - 658s 329ms/step - loss: 0.1155 - accuracy: 0.9575 - val_loss: 0.3868 - val_accuracy: 0.8811\n",
      "Epoch 4/10\n",
      "2000/2000 [==============================] - 630s 315ms/step - loss: 0.0648 - accuracy: 0.9772 - val_loss: 0.4700 - val_accuracy: 0.8845\n"
     ]
    }
   ],
   "source": [
    "# compilt the model with adam optimizer and binary_crossentropy loss.\n",
    "model.compile(optimizer='adam',loss='binary_crossentropy',metrics=['accuracy'])\n",
    "# fit the model and save as history for ploting\n",
    "history = model.fit(\n",
    "    x_train,\n",
    "    y_train,\n",
    "    validation_split=0.2,\n",
    "    batch_size=64,\n",
    "    epochs=10,\n",
    "    # set EarlyStopping to prevent overfitting and spending time. \n",
    "    # if the val_accuracy don't improved for 2 epochs stop, and return to best weight!\n",
    "    callbacks=[\n",
    "        tf.keras.callbacks.EarlyStopping(\n",
    "            monitor='val_accuracy',\n",
    "            patience=2,\n",
    "            restore_best_weights=True\n",
    "        )\n",
    "    ]\n",
    ")"
   ]
  },
  {
   "cell_type": "markdown",
   "id": "c57a3b19",
   "metadata": {
    "_cell_guid": "81532d23-52d2-4376-8f14-98cf0aa738a7",
    "_uuid": "69ae1f8f-b872-468c-bbd4-64e9eb91a007",
    "papermill": {
     "duration": 2.365772,
     "end_time": "2022-01-02T18:40:15.526240",
     "exception": false,
     "start_time": "2022-01-02T18:40:13.160468",
     "status": "completed"
    },
    "tags": []
   },
   "source": [
    "# Result"
   ]
  },
  {
   "cell_type": "code",
   "execution_count": 22,
   "id": "ed0d069a",
   "metadata": {
    "_cell_guid": "f03c851e-6d84-4ef4-a4de-e7f662501fc5",
    "_uuid": "9c50d6e6-3610-4b6e-8756-3c98a71710fe",
    "execution": {
     "iopub.execute_input": "2022-01-02T18:40:19.766733Z",
     "iopub.status.busy": "2022-01-02T18:40:19.765755Z",
     "iopub.status.idle": "2022-01-02T18:43:29.604865Z",
     "shell.execute_reply": "2022-01-02T18:43:29.605330Z",
     "shell.execute_reply.started": "2022-01-02T15:17:31.841825Z"
    },
    "jupyter": {
     "outputs_hidden": false
    },
    "papermill": {
     "duration": 191.934042,
     "end_time": "2022-01-02T18:43:29.605474",
     "exception": false,
     "start_time": "2022-01-02T18:40:17.671432",
     "status": "completed"
    },
    "tags": []
   },
   "outputs": [
    {
     "name": "stdout",
     "output_type": "stream",
     "text": [
      "1250/1250 [==============================] - 107s 86ms/step - loss: 0.2956 - accuracy: 0.8888\n"
     ]
    },
    {
     "data": {
      "text/plain": [
       "[0.2955699563026428, 0.8887500166893005]"
      ]
     },
     "execution_count": 22,
     "metadata": {},
     "output_type": "execute_result"
    }
   ],
   "source": [
    "# print loss and accurcy for test data\n",
    "model.evaluate(x_test, y_test)"
   ]
  },
  {
   "cell_type": "code",
   "execution_count": 23,
   "id": "6bcddec0",
   "metadata": {
    "_cell_guid": "fd91ace6-2a1f-4121-9a33-5515f7519046",
    "_uuid": "7cc3b5de-13e8-413d-a022-a38b584b750b",
    "execution": {
     "iopub.execute_input": "2022-01-02T18:43:34.704862Z",
     "iopub.status.busy": "2022-01-02T18:43:34.703905Z",
     "iopub.status.idle": "2022-01-02T18:45:57.616602Z",
     "shell.execute_reply": "2022-01-02T18:45:57.617082Z",
     "shell.execute_reply.started": "2022-01-02T15:19:45.365681Z"
    },
    "jupyter": {
     "outputs_hidden": false
    },
    "papermill": {
     "duration": 145.566274,
     "end_time": "2022-01-02T18:45:57.617261",
     "exception": false,
     "start_time": "2022-01-02T18:43:32.050987",
     "status": "completed"
    },
    "tags": []
   },
   "outputs": [],
   "source": [
    "y_true = np.array(y_test, dtype=np.int)\n",
    "y_pred = np.squeeze(np.array(model.predict(x_test) >= 0.5, dtype=np.int))"
   ]
  },
  {
   "cell_type": "markdown",
   "id": "12105057",
   "metadata": {
    "_cell_guid": "77a00b4a-67ef-4462-85dd-0c40279f6382",
    "_uuid": "840f2447-b205-420e-906a-0e18c16abb5e",
    "papermill": {
     "duration": 2.892327,
     "end_time": "2022-01-02T18:46:02.911056",
     "exception": false,
     "start_time": "2022-01-02T18:46:00.018729",
     "status": "completed"
    },
    "tags": []
   },
   "source": [
    "## F1 and Accuracy Score"
   ]
  },
  {
   "cell_type": "code",
   "execution_count": 24,
   "id": "89acd67c",
   "metadata": {
    "_cell_guid": "dfcd417d-792f-40d7-afca-276a670aa8f7",
    "_uuid": "4ee79004-7c5e-44b3-bc0b-d52256ad6d08",
    "execution": {
     "iopub.execute_input": "2022-01-02T18:46:08.047956Z",
     "iopub.status.busy": "2022-01-02T18:46:08.047018Z",
     "iopub.status.idle": "2022-01-02T18:46:08.064633Z",
     "shell.execute_reply": "2022-01-02T18:46:08.065421Z",
     "shell.execute_reply.started": "2022-01-02T15:24:23.315167Z"
    },
    "jupyter": {
     "outputs_hidden": false
    },
    "papermill": {
     "duration": 2.721167,
     "end_time": "2022-01-02T18:46:08.065615",
     "exception": false,
     "start_time": "2022-01-02T18:46:05.344448",
     "status": "completed"
    },
    "tags": []
   },
   "outputs": [
    {
     "name": "stdout",
     "output_type": "stream",
     "text": [
      "F1 score: 88.82 %\n",
      "Test accuracy score: 88.88 %\n"
     ]
    }
   ],
   "source": [
    "f1 = f1_score(y_true, y_pred)\n",
    "print(\"F1 score:\", round(f1*100,2) , \"%\")\n",
    "acc = np.mean(np.array(y_pred == y_true, dtype=np.int))\n",
    "print(\"Test accuracy score:\", round(acc*100,2) , \"%\")"
   ]
  },
  {
   "cell_type": "markdown",
   "id": "e16c8cb4",
   "metadata": {
    "_cell_guid": "0d3ffa3f-5fbf-4dad-9c20-49ce350e1e0b",
    "_uuid": "22e25b27-04ad-42d5-9ff0-b724b3bd866b",
    "papermill": {
     "duration": 2.397662,
     "end_time": "2022-01-02T18:46:12.890002",
     "exception": false,
     "start_time": "2022-01-02T18:46:10.492340",
     "status": "completed"
    },
    "tags": []
   },
   "source": [
    "## confusion matrix"
   ]
  },
  {
   "cell_type": "code",
   "execution_count": 25,
   "id": "06fe36c3",
   "metadata": {
    "_cell_guid": "da838958-dade-4aa3-87bb-d80448f56b0d",
    "_uuid": "bed96387-1e2a-4592-9b04-84a3edb1aafa",
    "execution": {
     "iopub.execute_input": "2022-01-02T18:46:18.028701Z",
     "iopub.status.busy": "2022-01-02T18:46:18.027764Z",
     "iopub.status.idle": "2022-01-02T18:46:18.279621Z",
     "shell.execute_reply": "2022-01-02T18:46:18.279209Z",
     "shell.execute_reply.started": "2022-01-02T15:22:08.339089Z"
    },
    "jupyter": {
     "outputs_hidden": false
    },
    "papermill": {
     "duration": 2.931602,
     "end_time": "2022-01-02T18:46:18.279776",
     "exception": false,
     "start_time": "2022-01-02T18:46:15.348174",
     "status": "completed"
    },
    "tags": []
   },
   "outputs": [
    {
     "data": {
      "image/png": "[encoded data removed]",
      "text/plain": [
       "<Figure size 432x288 with 2 Axes>"
      ]
     },
     "metadata": {
      "needs_background": "light"
     },
     "output_type": "display_data"
    }
   ],
   "source": [
    "cm = confusion_matrix(y_true, y_pred)\n",
    "sns.heatmap(cm,fmt=\".0f\", annot=True)\n",
    "plt.xlabel(\"Predict\")\n",
    "plt.ylabel(\"Test\")\n",
    "plt.title(\"Confusion Matrix\")\n",
    "plt.show()"
   ]
  },
  {
   "cell_type": "code",
   "execution_count": 26,
   "id": "3c6f56dd",
   "metadata": {
    "_cell_guid": "77e1cace-7994-4566-9afd-7aff1fc6ca0a",
    "_uuid": "2637a9f4-40f9-4731-8b4d-e7ec9dc65379",
    "execution": {
     "iopub.execute_input": "2022-01-02T18:46:23.144024Z",
     "iopub.status.busy": "2022-01-02T18:46:23.141099Z",
     "iopub.status.idle": "2022-01-02T18:46:23.144596Z",
     "shell.execute_reply": "2022-01-02T18:46:23.145079Z",
     "shell.execute_reply.started": "2022-01-02T15:22:08.613527Z"
    },
    "jupyter": {
     "outputs_hidden": false
    },
    "papermill": {
     "duration": 2.462317,
     "end_time": "2022-01-02T18:46:23.145222",
     "exception": false,
     "start_time": "2022-01-02T18:46:20.682905",
     "status": "completed"
    },
    "tags": []
   },
   "outputs": [],
   "source": [
    "accuracy = history.history['accuracy']\n",
    "val_accuracy = history.history['val_accuracy']\n",
    "loss = history.history['loss']\n",
    "val_loss = history.history['val_loss']"
   ]
  },
  {
   "cell_type": "code",
   "execution_count": 27,
   "id": "f0010cf4",
   "metadata": {
    "_cell_guid": "63387b2a-e4bd-4f86-957c-97ef42de75f0",
    "_uuid": "b4e560d0-7e7b-423e-8c50-d01f4dccaa37",
    "execution": {
     "iopub.execute_input": "2022-01-02T18:46:28.034910Z",
     "iopub.status.busy": "2022-01-02T18:46:28.029753Z",
     "iopub.status.idle": "2022-01-02T18:46:28.450564Z",
     "shell.execute_reply": "2022-01-02T18:46:28.450098Z",
     "shell.execute_reply.started": "2022-01-02T15:22:08.619924Z"
    },
    "jupyter": {
     "outputs_hidden": false
    },
    "papermill": {
     "duration": 2.902503,
     "end_time": "2022-01-02T18:46:28.450737",
     "exception": false,
     "start_time": "2022-01-02T18:46:25.548234",
     "status": "completed"
    },
    "tags": []
   },
   "outputs": [
    {
     "data": {
      "image/png": "[encoded data removed]",
      "text/plain": [
       "<Figure size 432x288 with 1 Axes>"
      ]
     },
     "metadata": {
      "needs_background": "light"
     },
     "output_type": "display_data"
    },
    {
     "data": {
      "image/png": "[encoded data removed]",
      "text/plain": [
       "<Figure size 432x288 with 1 Axes>"
      ]
     },
     "metadata": {
      "needs_background": "light"
     },
     "output_type": "display_data"
    }
   ],
   "source": [
    "plt.plot(accuracy, label=\"accuracy train\")\n",
    "plt.plot(val_accuracy, label=\"val accuracy\")\n",
    "plt.title(\"GRU with embadding accuracy \\n epoch = 50 (with erly stop) || minibatch = 640\")\n",
    "plt.ylabel(\"prectenge\")\n",
    "plt.xlabel(\"epoch\")\n",
    "plt.legend()\n",
    "plt.show()\n",
    "\n",
    "\n",
    "\n",
    "plt.plot(loss, label = \"loss train\")\n",
    "plt.plot(val_loss, label = \"val loss\")\n",
    "plt.title(\"GRU with embadding accuracy \\n epoch = 50 (with erly stop) || minibatch = 640\")\n",
    "plt.ylabel(\"cost\")\n",
    "plt.xlabel(\"epoch\")\n",
    "plt.legend()\n",
    "plt.show()"
   ]
  },
  {
   "cell_type": "markdown",
   "id": "dd5b24ea",
   "metadata": {
    "_cell_guid": "4794bbd9-c062-450b-80e9-98745400513f",
    "_uuid": "0b7957f5-3b7a-4891-9e2b-a45419a4bef5",
    "papermill": {
     "duration": 2.720945,
     "end_time": "2022-01-02T18:46:33.847382",
     "exception": false,
     "start_time": "2022-01-02T18:46:31.126437",
     "status": "completed"
    },
    "tags": []
   },
   "source": [
    "## Example of classification"
   ]
  },
  {
   "cell_type": "code",
   "execution_count": 28,
   "id": "398e3c9c",
   "metadata": {
    "_cell_guid": "f01b9024-7afc-4e41-aff3-e6265c257ea9",
    "_uuid": "9b60d73d-e92e-4fa1-b297-00214a456073",
    "execution": {
     "iopub.execute_input": "2022-01-02T18:46:38.960569Z",
     "iopub.status.busy": "2022-01-02T18:46:38.960028Z",
     "iopub.status.idle": "2022-01-02T18:46:39.687312Z",
     "shell.execute_reply": "2022-01-02T18:46:39.686663Z",
     "shell.execute_reply.started": "2022-01-02T16:03:00.720500Z"
    },
    "jupyter": {
     "outputs_hidden": false
    },
    "papermill": {
     "duration": 3.202372,
     "end_time": "2022-01-02T18:46:39.687487",
     "exception": false,
     "start_time": "2022-01-02T18:46:36.485115",
     "status": "completed"
    },
    "tags": []
   },
   "outputs": [
    {
     "name": "stdout",
     "output_type": "stream",
     "text": [
      "This is negetiv review!\n"
     ]
    },
    {
     "data": {
      "text/plain": [
       "array(0.00179333, dtype=float32)"
      ]
     },
     "execution_count": 28,
     "metadata": {},
     "output_type": "execute_result"
    }
   ],
   "source": [
    "ans = Deal_with_sentence(\n",
    "    \"The power button does not do a clean shutdown. The developers know about this and have decided to claim their definition of \\\"safe\\\" justifies the false-advertising.The thermals looked reasonable out of the box but I wanted to use my preferred thermal paste and discovered there was some black adhesive residue on the CPU where the pad they were using was pink with no adhesive on it . Their Pi's might have those stick-on heat-sinks that they are removing but they are not cleaning the surface before assembly.\")\n",
    "ans = T.texts_to_sequences([ans])\n",
    "ans = pad_sequences(ans, maxlen=longest_r, padding='post')\n",
    "if(np.squeeze(model.predict(ans))>0.5):\n",
    "    print(\"This is positive review!\")\n",
    "else:\n",
    "    print(\"This is negetiv review!\")\n",
    "    \n",
    "    \n",
    "np.squeeze(model.predict(ans))"
   ]
  }
 ],
 "metadata": {
  "kernelspec": {
   "display_name": "Python 3",
   "language": "python",
   "name": "python3"
  },
  "language_info": {
   "codemirror_mode": {
    "name": "ipython",
    "version": 3
   },
   "file_extension": ".py",
   "mimetype": "text/x-python",
   "name": "python",
   "nbconvert_exporter": "python",
   "pygments_lexer": "ipython3",
   "version": "3.8.2"
  },
  "papermill": {
   "default_parameters": {},
   "duration": 3458.509845,
   "end_time": "2022-01-02T18:46:45.322822",
   "environment_variables": {},
   "exception": null,
   "input_path": "__notebook__.ipynb",
   "output_path": "__notebook__.ipynb",
   "parameters": {},
   "start_time": "2022-01-02T17:49:06.812977",
   "version": "2.3.3"
  }
 },
 "nbformat": 4,
 "nbformat_minor": 5
}
